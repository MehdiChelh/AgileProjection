{
 "cells": [
  {
   "cell_type": "code",
   "execution_count": 165,
   "metadata": {},
   "outputs": [
    {
     "data": {
      "text/plain": [
       "UUID('6fa459ea-ee8a-3ca4-894e-db77e160355e')"
      ]
     },
     "execution_count": 165,
     "metadata": {},
     "output_type": "execute_result"
    }
   ],
   "source": [
    "import numpy as np\n",
    "import inspect\n",
    "import uuid\n",
    "\n",
    "uuid.uuid3(uuid.NAMESPACE_DNS, 'python.org')"
   ]
  },
  {
   "cell_type": "code",
   "execution_count": 287,
   "metadata": {},
   "outputs": [],
   "source": [
    "# Matrice de MP\n",
    "# Maille MP :\n",
    "#   - indice temps, indice étape, indice produit, indice mp\n",
    "# Maille Produit :\n",
    "#   - indice temps, indice étape, indice produit\n",
    "# Maille Compagnie :\n",
    "#   - indice temps, indice étape\n",
    "# Maille Top :\n",
    "#   - None / indice temps / indice temps, indice étape\n",
    "\n",
    "CUSTOM = 0 # -> pour définir des étapes de calcul (bop, eop, ...)\n",
    "YEARLY = 1\n",
    "QUARTERLY = 3\n",
    "BIANNUALY = 6\n",
    "MONTHLY = 12\n",
    "DAILY = 365\n",
    "\n",
    "def md5_id(name):\n",
    "    return uuid.uuid3(uuid.NAMESPACE_DNS, name).hex\n",
    "\n",
    "class Mesh:\n",
    "    None\n",
    "    # Etend la classe array\n",
    "    # initialisation à partir de Meshs et de cash flows et d'une liste de variables et d'indices\n",
    "    # A chaque variable de la liste est associé une méthode qui définie la variable (-> cette méthode est récupérée par le builder)\n",
    "    # A chaque sous-Mesh est associé un getter\n",
    "    # Une méthode build renvoie le graph de dépendance de la mesh\n",
    "    # Une méthode exec exécute les calculs sur des inputs du graph de dépendance\n",
    "    #    - la méthode exec doit pouvoir gérer le parallélisme et la gestion de la mémoire (éventuellement écriture sur le disque)\n",
    "    # \n",
    "    \n",
    "class Placeholder:\n",
    "    id_ = None\n",
    "    name = None\n",
    "    def __init__(self, name):\n",
    "        self.id_ = md5_id(name)\n",
    "        self.name = name\n",
    "    \n",
    "class Constant(Placeholder):\n",
    "    value = None\n",
    "    def __init__(self, name, value):\n",
    "        super().__init__(name)\n",
    "        self.value = value\n",
    "    def __eq__(self, other):\n",
    "        return self.id_ == other.id_\n",
    "\n",
    "\n",
    "class TimeStep(Placeholder):\n",
    "    \"\"\"Todo: add multiply method \"\"\"\n",
    "    def __init__(self, shift = 0, name = \"main\", ref = Constant(\"TimeStep_ref\", 0), base = YEARLY):\n",
    "        super().__init__(name)\n",
    "        self.shift = shift\n",
    "        self.ref = ref\n",
    "        self.base = YEARLY # YEARLY, MONTHLY, DAILY\n",
    "        self.values = {}\n",
    "        \n",
    "    def __add__(self, value):\n",
    "        if isinstance(value, TimeStep):\n",
    "            raise ArithmeticError(\"Cannot use +, -, * or / operators with TimeSteps objects. Please use set_ref to set a relative TimeStep or monthly(), quarterly(), biannualy(), yearly() to set the base to use.\")\n",
    "        else:\n",
    "            return TimeStep(shift = self.shift + value, name = self.name)\n",
    "        \n",
    "    def __sub__(self, other):\n",
    "        if isinstance(other, TimeStep):\n",
    "            raise ArithmeticError(\"Cannot use +, -, * or / operators with TimeSteps objects. Please use set_ref to set a relative TimeStep or monthly(), quarterly(), biannualy(), yearly() to set the base to use.\")\n",
    "        else:\n",
    "            return TimeStep(shift = self.shift - other, name = self.name)\n",
    "    \n",
    "    def set_ref(self, other):\n",
    "        if isinstance(other, TimeStep):\n",
    "            TimeStep(shift = self.shift - value, name = self.name, ref = other)\n",
    "    \n",
    "    def yearly():\n",
    "        self.base = YEARLY\n",
    "        \n",
    "    def monthly():\n",
    "        self.base = MONTHLY\n",
    "    \n",
    "    def daily():\n",
    "        self.base = DAILY\n",
    "        \n",
    "    def evaluate(self, value):\n",
    "        if self.values.get(value, False):\n",
    "            \n",
    "        if value == self.ref.value:\n",
    "            return self.ref.value\n",
    "        elif value > self.ref.value:\n",
    "            return 1 + self.evaluate(value - 1)\n",
    "        elif value < self.ref.value:\n",
    "            return -1 + self.evaluate(value + 1)\n",
    "        \n",
    "    def formula(self, value):\n",
    "        if value == self.ref.value:\n",
    "            return self.ref.value\n",
    "        elif value > self.ref.value:\n",
    "            return 1 + self.formula(value - 1)\n",
    "        elif value < self.ref.value:\n",
    "            return -1 + self.formula(value + 1)\n",
    "        \n",
    "        if self.shift == 0:\n",
    "            return self.ref.value\n",
    "        else:\n",
    "            return self.__sub__(1)\n",
    "        \n",
    "        \n",
    "    \n",
    "class Hypothesis(Placeholder):\n",
    "    \"\"\"Different categories : numeric, factor, string (in case of id)\"\"\"\n",
    "    category = None\n",
    "    def __init__(self, name):\n",
    "        super().__init__(name)\n",
    "        self.shift = shift\n",
    "\n",
    "    \n",
    "class Flow(Placeholder):\n",
    "    \"\"\"Time dependent placeholder\"\"\"\n",
    "    size = None\n",
    "    # dim = None\n",
    "    # dimnames = None\n",
    "    dependencies = {\"in\":[], \"out\":[]}\n",
    "    built = False\n",
    "    values = []\n",
    "    computed = []\n",
    "    def __init__(self, size = 1, name = \"CF_\" + str(random.randint(1, 100))):\n",
    "        super().__init__(name)\n",
    "        self.size = size\n",
    "    def __add__(self, cf):\n",
    "        #[self.cf_id, self.]\n",
    "        self.dependencies[\"in\"].append(self.cf_id)\n",
    "        cf.dependencies[\"in\"].append(cf.cf_id)\n",
    "    def __getitem__(self, key):\n",
    "        return([self.id_, key])\n",
    "    def __setitem__(self, ):\n",
    "        None"
   ]
  },
  {
   "cell_type": "code",
   "execution_count": 290,
   "metadata": {},
   "outputs": [
    {
     "name": "stdout",
     "output_type": "stream",
     "text": [
      "3\n",
      "4\n"
     ]
    },
    {
     "data": {
      "text/plain": [
       "-15"
      ]
     },
     "execution_count": 290,
     "metadata": {},
     "output_type": "execute_result"
    }
   ],
   "source": [
    "t = TimeStep(shift = 3)\n",
    "#t = t - 2\n",
    "#Placeholder(\"itt_rate\")\n",
    "#print(t.shift)\n",
    "#print(t.id_)\n",
    "#(t - t).shift\n",
    "print(t.shift)\n",
    "t = t + 1\n",
    "print(t.shift)\n",
    "t.evaluate(-15)"
   ]
  },
  {
   "cell_type": "code",
   "execution_count": 299,
   "metadata": {},
   "outputs": [
    {
     "data": {
      "text/plain": [
       "True"
      ]
     },
     "execution_count": 299,
     "metadata": {},
     "output_type": "execute_result"
    }
   ],
   "source": [
    "0 == False"
   ]
  },
  {
   "cell_type": "code",
   "execution_count": 173,
   "metadata": {},
   "outputs": [
    {
     "data": {
      "text/plain": [
       "['25e14044f12c30a89af29abb5778eef2', 2]"
      ]
     },
     "execution_count": 173,
     "metadata": {},
     "output_type": "execute_result"
    }
   ],
   "source": [
    "my_cf = CashFlow(10, \"my_cf\")\n",
    "my_cf[2]"
   ]
  },
  {
   "cell_type": "markdown",
   "metadata": {},
   "source": [
    "\n",
    "\n"
   ]
  },
  {
   "cell_type": "code",
   "execution_count": 527,
   "metadata": {},
   "outputs": [
    {
     "ename": "IndexError",
     "evalue": "index 11 is out of bounds for axis 0 with size 9",
     "output_type": "error",
     "traceback": [
      "\u001b[0;31m---------------------------------------------------------------------------\u001b[0m",
      "\u001b[0;31mIndexError\u001b[0m                                Traceback (most recent call last)",
      "\u001b[0;32m<ipython-input-527-40fee6c1a187>\u001b[0m in \u001b[0;36m<module>\u001b[0;34m()\u001b[0m\n\u001b[1;32m      1\u001b[0m \u001b[0ma\u001b[0m \u001b[0;34m=\u001b[0m \u001b[0mnp\u001b[0m\u001b[0;34m.\u001b[0m\u001b[0marange\u001b[0m\u001b[0;34m(\u001b[0m\u001b[0;36m1\u001b[0m\u001b[0;34m,\u001b[0m \u001b[0;36m10\u001b[0m\u001b[0;34m)\u001b[0m\u001b[0;34m\u001b[0m\u001b[0m\n\u001b[0;32m----> 2\u001b[0;31m \u001b[0ma\u001b[0m\u001b[0;34m[\u001b[0m\u001b[0;36m11\u001b[0m\u001b[0;34m]\u001b[0m\u001b[0;34m\u001b[0m\u001b[0m\n\u001b[0m",
      "\u001b[0;31mIndexError\u001b[0m: index 11 is out of bounds for axis 0 with size 9"
     ]
    }
   ],
   "source": [
    "a = np.arange(1, 10)\n",
    "a[11]"
   ]
  },
  {
   "cell_type": "code",
   "execution_count": null,
   "metadata": {},
   "outputs": [],
   "source": []
  },
  {
   "cell_type": "code",
   "execution_count": 523,
   "metadata": {},
   "outputs": [
    {
     "name": "stdout",
     "output_type": "stream",
     "text": [
      "False\n",
      "False\n"
     ]
    },
    {
     "data": {
      "text/plain": [
       "array([[ 0.,  1.,  2.,  3.,  4.,  5.,  6.,  7.,  8.,  9.],\n",
       "       [10., 11., 12., 13., 14., 15., 16., 17., 18., 19.],\n",
       "       [20., 21., 22., 23., 24., 25., 26., 27., 28., 29.],\n",
       "       [30., 31., 32., 33., 34., 35., 36., 37., 38., 39.],\n",
       "       [40., 41., 42., 43., 44., 45., 46., 47., 48., 49.],\n",
       "       [50., 51., 52., 53., nan, nan, nan, nan, nan, nan],\n",
       "       [nan, nan, nan, nan, nan, nan, nan, nan, nan, nan],\n",
       "       [nan, nan, nan, nan, nan, nan, nan, nan, nan, nan],\n",
       "       [nan, nan, nan, nan, nan, nan, nan, nan, nan, nan],\n",
       "       [nan, nan, nan, nan, nan, nan, nan, nan, nan, nan]])"
      ]
     },
     "execution_count": 523,
     "metadata": {},
     "output_type": "execute_result"
    }
   ],
   "source": [
    "\n",
    "class Flow:\n",
    "    def __init__(self, model, mesh, name, shape):\n",
    "        self.shape = shape\n",
    "        self.model = model\n",
    "        self.mesh = mesh\n",
    "        self.computed = np.zeros(shape, dtype = bool)\n",
    "        self.values = np.zeros(shape, dtype = bool) * np.nan # not very clean\n",
    "        self.compute_mode = False\n",
    "        \n",
    "    def __getitem__(self, *args):\n",
    "        if self.compute_mode & (not self.computed[args[0]]):\n",
    "            self.formula(args[0])\n",
    "        return self.values.__getitem__(args[0])\n",
    "    \n",
    "    def __setitem__(self, *args):\n",
    "        self.values[args[0]] = args[1]\n",
    "        self.computed[args[0]] = True\n",
    "    \n",
    "    def slide_window(self):\n",
    "        pass\n",
    "    \n",
    "    def compute(self, index):\n",
    "        self.compute_mode = True\n",
    "        return self[index]\n",
    "    \n",
    "    def formula(self, index):\n",
    "        s = self\n",
    "        m = self.mesh\n",
    "        top = self.model\n",
    "        \n",
    "        # Formula stuff...\n",
    "        self[index] = None # some stuff...\n",
    "    \n",
    "\n",
    "class Mesh:\n",
    "    def __init__(self, model, name, shape, shape_names):\n",
    "        self.shape = shape\n",
    "        self.model = model\n",
    "        self.shape_names = shape_names\n",
    "        \n",
    "        self.flow = {}\n",
    "        self.mesh = {}\n",
    "        \n",
    "    def compute(self, index):\n",
    "        pass\n",
    "        \n",
    "    def __getitem__(self, item):\n",
    "        return self.flow[item]\n",
    "\n",
    "        \n",
    "    \n",
    "class FlowTest(Flow):\n",
    "    def __init__(self, model, mesh, name, shape):\n",
    "        super().__init__(model, mesh, name, shape)\n",
    "        self.T1, self.T2 = self.shape[0], self.shape[1]\n",
    "        \n",
    "    def formula(self, index):\n",
    "        t1, t2 = index\n",
    "        T1, T2 = self.T1, self.T2\n",
    "        if (t1 == 0) & (t2 == 0):\n",
    "            self[t1, t2] = 0\n",
    "        elif (t2 == 0):\n",
    "            self[t1, t2] = self[t1-1, T2-1] + 1\n",
    "        else:\n",
    "            self[t1, t2] = self[t1, t2-1] + 1\n",
    "    \n",
    "\n",
    "flow = FlowTest(None, None, \"FlowTest\", (10, 10))\n",
    "print(flow.compute_mode)\n",
    "print(flow.compute_mode)\n",
    "flow.compute((5, 3))\n",
    "flow.values"
   ]
  },
  {
   "cell_type": "code",
   "execution_count": null,
   "metadata": {},
   "outputs": [],
   "source": []
  },
  {
   "cell_type": "code",
   "execution_count": null,
   "metadata": {},
   "outputs": [],
   "source": []
  },
  {
   "cell_type": "code",
   "execution_count": null,
   "metadata": {},
   "outputs": [],
   "source": []
  },
  {
   "cell_type": "code",
   "execution_count": 517,
   "metadata": {},
   "outputs": [
    {
     "name": "stdout",
     "output_type": "stream",
     "text": [
      "nan\n",
      "10.0\n",
      "<__main__.Credit object at 0x105e1db00>\n",
      "<__main__.Credit object at 0x105e1db00>\n"
     ]
    }
   ],
   "source": [
    "\n",
    "\n",
    "class Model:\n",
    "    mesh = {}\n",
    "    report = {}\n",
    "    def __init__(self):\n",
    "        pass\n",
    "    def __getitem__(self, item):\n",
    "        return self.mesh[item]\n",
    "        \n",
    "\n",
    "class Credit(Mesh):\n",
    "    def __init__(self, model, name, shape, shape_names):\n",
    "        super().__init__(model, name, shape, shape_names)\n",
    "        \n",
    "        self.flow[\"flow_test\"] = FlowTest(model, self, \"flow_test\", shape)\n",
    "        #self.mesh[\"submesh1\"] = Mesh(model, \"submesh1\", [10, 2, 1], [\"time\", \"etape\", \"credit\", \"submesh1\"])\n",
    "\n",
    "        \n",
    "class Prod_tra(Mesh):\n",
    "    def __init__(self, *args):\n",
    "        super().__init__(*args)\n",
    "        \n",
    "class Goc_insu(Mesh):\n",
    "    def __init__(self, *args):\n",
    "        super().__init__(*args)\n",
    "        \n",
    "class Goc_reass(Mesh):\n",
    "    def __init__(self, *args):\n",
    "        super().__init__(*args)\n",
    "        \n",
    "    \n",
    "class PVIF(Model):\n",
    "    def __init__(self):\n",
    "        super().__init__()\n",
    "        self.mesh[\"credit\"] = Credit(self, \"credit\", [10, 2], [\"time\", \"etape\", \"credit\"])\n",
    "        self.mesh[\"prod_tra\"] = Prod_tra(self, \"prod_tra\", [10, 2], [\"time\", \"etape\", \"prod_tra\"])\n",
    "        self.mesh[\"goc_insu\"] = Goc_insu(self, \"goc_insu\", [10, 2], [\"time\", \"etape\", \"goc_insu\"])\n",
    "        self.mesh[\"goc_reass\"] = Goc_reass(self, \"goc_reass\", [10, 2], [\"time\", \"etape\", \"goc_reass\"])\n",
    "\n",
    "pvif = PVIF()\n",
    "print(pvif[\"credit\"][\"flow_test\"][2, 1])\n",
    "pvif[\"credit\"][\"flow_test\"][2, 1] = 10\n",
    "print(pvif[\"credit\"][\"flow_test\"][2, 1])\n",
    "#pvif[\"credit\"][\"flow1\"].formula()\n",
    "print(pvif[\"credit\"].model[\"credit\"])\n",
    "print(pvif[\"credit\"])"
   ]
  },
  {
   "cell_type": "code",
   "execution_count": 518,
   "metadata": {},
   "outputs": [
    {
     "data": {
      "text/plain": [
       "array([[nan, nan],\n",
       "       [nan, nan],\n",
       "       [nan, 10.],\n",
       "       [nan, nan],\n",
       "       [nan, nan],\n",
       "       [nan, nan],\n",
       "       [nan, nan],\n",
       "       [nan, nan],\n",
       "       [nan, nan],\n",
       "       [nan, nan]])"
      ]
     },
     "execution_count": 518,
     "metadata": {},
     "output_type": "execute_result"
    }
   ],
   "source": [
    "pvif[\"credit\"][\"flow_test\"].values"
   ]
  },
  {
   "cell_type": "code",
   "execution_count": 519,
   "metadata": {},
   "outputs": [
    {
     "data": {
      "text/plain": [
       "16.0"
      ]
     },
     "execution_count": 519,
     "metadata": {},
     "output_type": "execute_result"
    }
   ],
   "source": [
    "pvif[\"credit\"][\"flow_test\"].compute((5, 1))"
   ]
  },
  {
   "cell_type": "code",
   "execution_count": 520,
   "metadata": {},
   "outputs": [
    {
     "data": {
      "text/plain": [
       "array([[nan, nan],\n",
       "       [nan, nan],\n",
       "       [nan, 10.],\n",
       "       [11., 12.],\n",
       "       [13., 14.],\n",
       "       [15., 16.],\n",
       "       [nan, nan],\n",
       "       [nan, nan],\n",
       "       [nan, nan],\n",
       "       [nan, nan]])"
      ]
     },
     "execution_count": 520,
     "metadata": {},
     "output_type": "execute_result"
    }
   ],
   "source": [
    "pvif[\"credit\"][\"flow_test\"].values"
   ]
  },
  {
   "cell_type": "code",
   "execution_count": 521,
   "metadata": {},
   "outputs": [
    {
     "data": {
      "text/plain": [
       "14.0"
      ]
     },
     "execution_count": 521,
     "metadata": {},
     "output_type": "execute_result"
    }
   ],
   "source": [
    "pvif[\"credit\"][\"flow_test\"][4, 1]"
   ]
  },
  {
   "cell_type": "code",
   "execution_count": null,
   "metadata": {},
   "outputs": [],
   "source": [
    "\n",
    "def __setattr__(self, ):\n",
    "    Produit.nom_du_produit[t] = Produit.nom_du_produit[t-1]"
   ]
  },
  {
   "cell_type": "code",
   "execution_count": null,
   "metadata": {},
   "outputs": [],
   "source": [
    "def __setitem__(self, ):\n",
    "    Produit.cf[]"
   ]
  },
  {
   "cell_type": "code",
   "execution_count": null,
   "metadata": {},
   "outputs": [],
   "source": [
    "class Produit(Mesh):\n",
    "    cashflows = {}\n",
    "    def __init__(self):\n",
    "        super().__init()__\n",
    "    def get_cash_flow(self, name):\n",
    "        return self.cashflows[name]\n",
    "    def set_cash_flow(self, name, fun):\n",
    "        self.cashflows[name].set(fun)"
   ]
  }
 ],
 "metadata": {
  "anaconda-cloud": {},
  "kernelspec": {
   "display_name": "Python [Root]",
   "language": "python",
   "name": "Python [Root]"
  },
  "language_info": {
   "codemirror_mode": {
    "name": "ipython",
    "version": 3
   },
   "file_extension": ".py",
   "mimetype": "text/x-python",
   "name": "python",
   "nbconvert_exporter": "python",
   "pygments_lexer": "ipython3",
   "version": "3.5.1"
  }
 },
 "nbformat": 4,
 "nbformat_minor": 2
}
