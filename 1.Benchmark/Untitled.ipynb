{
 "cells": [
  {
   "cell_type": "code",
   "execution_count": 7,
   "metadata": {},
   "outputs": [
    {
     "data": {
      "text/plain": [
       "UUID('6fa459ea-ee8a-3ca4-894e-db77e160355e')"
      ]
     },
     "execution_count": 7,
     "metadata": {},
     "output_type": "execute_result"
    }
   ],
   "source": [
    "import numpy as np\n",
    "import pandas\n",
    "import itertools\n",
    "import inspect\n",
    "import uuid\n",
    "import ray\n",
    "\n",
    "uuid.uuid3(uuid.NAMESPACE_DNS, 'python.org')"
   ]
  },
  {
   "cell_type": "code",
   "execution_count": 27,
   "metadata": {},
   "outputs": [],
   "source": [
    "\n",
    "class Flow:\n",
    "    def __init__(self, model, mesh, name, shape):\n",
    "        self.shape = shape # 1 Dimension for now\n",
    "        self.model = model\n",
    "        self.mesh = mesh\n",
    "        self.computed = np.zeros(shape, dtype = bool)\n",
    "        self.values = np.zeros(shape, dtype = float) * np.nan # not very clean\n",
    "        self.compute_mode = False\n",
    "        \n",
    "    def __getitem__(self, *args):\n",
    "        if self.compute_mode & (not self.computed[args[0]]):\n",
    "            self.formula(args[0])\n",
    "        return self.values.__getitem__(args[0])\n",
    "    \n",
    "    def __setitem__(self, *args):\n",
    "        self.values[args[0]] = args[1]\n",
    "        self.computed[args[0]] = True\n",
    "    \n",
    "    def slide_window(self):\n",
    "        pass\n",
    "    \n",
    "    def compute(self, index):\n",
    "        \"\"\"\n",
    "        Args::\n",
    "        - index : index of the value to compute. Compute all values if index == -2.\n",
    "                  Compute the last value if index == -1\n",
    "\n",
    "        if index == -1:\n",
    "        return self[self.shape - 1]\n",
    "        elif index == -2:\n",
    "        ranges = (range(i) for i in self.shape)\n",
    "        for index in itertools.product(*ranges):\n",
    "          self[index]\n",
    "        return self[self.shape - 1]\n",
    "        \"\"\"\n",
    "        self.compute_mode = True\n",
    "        return self[index]\n",
    "  \n",
    "    def formula(self, index):\n",
    "        s = self\n",
    "        m = self.mesh\n",
    "        top = self.model\n",
    "        \n",
    "        # Formula stuff...\n",
    "        self[index] = None # some stuff...\n",
    "    def resize(self, shape):\n",
    "        self.computed = np.zeros(shape, dtype = bool)\n",
    "        self.values = np.zeros(shape, dtype = float) * np.nan\n",
    "\n",
    "class Mesh:\n",
    "    def __init__(self, model, name, shape, shape_names):\n",
    "        self.shape = shape\n",
    "        self.model = model\n",
    "        self.shape_names = shape_names\n",
    "        \n",
    "        self.flow = {}\n",
    "        self.mesh = {}\n",
    "        \n",
    "    def compute(self, index):\n",
    "        pass\n",
    "        \n",
    "    def __getitem__(self, item):\n",
    "        return self.flow[item]\n",
    "    \n",
    "    def resize(self, shape):\n",
    "        for key in self.flow.keys():\n",
    "            self.flow[key].resize(shape)\n",
    "\n",
    "\n",
    "class Report:\n",
    "    def __init__(self, model, name):\n",
    "        self.model = model\n",
    "        self.name = name\n",
    "    def export(self):\n",
    "        pass\n",
    "    def compute(self):\n",
    "        pass\n",
    "\n",
    "\n",
    "\n",
    "class Model:\n",
    "    mesh = {}\n",
    "    report = {}\n",
    "    def __init__(self):\n",
    "        pass\n",
    "    def __getitem__(self, item):\n",
    "        return self.mesh[item]"
   ]
  },
  {
   "cell_type": "code",
   "execution_count": 4,
   "metadata": {},
   "outputs": [
    {
     "name": "stdout",
     "output_type": "stream",
     "text": [
      "False\n",
      "False\n"
     ]
    },
    {
     "data": {
      "text/plain": [
       "array([[nan, nan, nan, nan, nan, nan, nan, nan, nan, nan],\n",
       "       [nan, nan, nan, nan, nan, nan, nan, nan, nan, nan],\n",
       "       [nan, nan, nan, nan, nan, nan, nan, nan, nan, nan],\n",
       "       [nan, nan, nan, nan, nan, nan, nan, nan, nan, nan],\n",
       "       [nan, nan, nan, nan, nan, nan, nan, nan, nan, nan],\n",
       "       [nan, nan, nan, nan, nan, nan, nan, nan, nan, nan],\n",
       "       [nan, nan, nan, nan, nan, nan, nan, nan, nan, nan],\n",
       "       [nan, nan, nan, nan, nan, nan, nan, nan, nan, nan],\n",
       "       [nan, nan, nan, nan, nan, nan, nan, nan, nan, nan],\n",
       "       [nan, nan, nan, nan, nan, nan, nan, nan, nan, nan]])"
      ]
     },
     "execution_count": 4,
     "metadata": {},
     "output_type": "execute_result"
    }
   ],
   "source": [
    "\n",
    "        \n",
    "class FlowTest(Flow):\n",
    "    def __init__(self, model, mesh, name, shape):\n",
    "        super().__init__(model, mesh, name, shape)\n",
    "        self.T1, self.T2 = self.shape[0], self.shape[1]\n",
    "        \n",
    "    def formula(self, index):\n",
    "        t1, t2, mp = index\n",
    "        T1, T2 = self.T1, self.T2\n",
    "        if (t1 == 0) & (t2 == 0):\n",
    "            self[t1, t2, mp] = 0\n",
    "        elif (t2 == 0):\n",
    "            self[t1, t2, mp] = self[t1-1, T2-1, mp] + 1\n",
    "        else:\n",
    "            self[t1, t2, mp] = self[t1, t2-1, mp] + 1\n",
    "    \n",
    "\n",
    "flow = FlowTest(None, None, \"FlowTest\", (10, 10, 3))\n",
    "print(flow.compute_mode)\n",
    "print(flow.compute_mode)\n",
    "flow.compute((5, 3, 1))\n",
    "flow.values[:,: , 2]"
   ]
  },
  {
   "cell_type": "code",
   "execution_count": 5,
   "metadata": {},
   "outputs": [],
   "source": [
    "\n",
    "\n",
    "class Report_central(Report):\n",
    "    def __init__(self, model, name):\n",
    "        super().__init__(self, model, name)\n",
    "    def compute(self):\n",
    "        model[\"prod_tra\"].compute(-1)"
   ]
  },
  {
   "cell_type": "code",
   "execution_count": 9,
   "metadata": {},
   "outputs": [
    {
     "name": "stdout",
     "output_type": "stream",
     "text": [
      "nan\n",
      "10.0\n",
      "<__main__.Credit object at 0x11deb2410>\n",
      "<__main__.Credit object at 0x11deb2410>\n"
     ]
    }
   ],
   "source": [
    "class Credit(Mesh):\n",
    "    def __init__(self, model, name, shape, shape_names):\n",
    "        super().__init__(model, name, shape, shape_names)\n",
    "        \n",
    "        self.flow[\"flow_test\"] = FlowTest(model, self, \"flow_test\", shape)\n",
    "        #self.mesh[\"submesh1\"] = Mesh(model, \"submesh1\", [10, 2, 1], [\"time\", \"etape\", \"credit\", \"submesh1\"])\n",
    "\n",
    "        \n",
    "class Prod_tra(Mesh):\n",
    "    def __init__(self, *args):\n",
    "        super().__init__(*args)\n",
    "        \n",
    "class Goc_insu(Mesh):\n",
    "    def __init__(self, *args):\n",
    "        super().__init__(*args)\n",
    "        \n",
    "class Goc_reass(Mesh):\n",
    "    def __init__(self, *args):\n",
    "        super().__init__(*args)\n",
    "\n",
    "\n",
    "class Pv_prod_tra(Mesh):\n",
    "    def __init__(self, *args):\n",
    "        super().__init__(*args)\n",
    "        \n",
    "    \n",
    "class PVIF(Model):\n",
    "    T = 10\n",
    "    substeps = 2\n",
    "    def __init__(self):\n",
    "        super().__init__()\n",
    "        self.mesh[\"credit\"] = Credit(self, \"credit\", [self.T, self.substeps, 1], [\"time\", \"etape\", \"mp\"])\n",
    "        self.mesh[\"prod_tra\"] = Prod_tra(self, \"prod_tra\", [self.T, self.substeps, 1], [\"time\", \"etape\", \"mp\"])\n",
    "        self.mesh[\"goc_insu\"] = Goc_insu(self, \"goc_insu\", [self.T, self.substeps, 1], [\"time\", \"etape\", \"mp\"])\n",
    "        self.mesh[\"goc_reass\"] = Goc_reass(self, \"goc_reass\", [self.T, self.substeps, 1], [\"time\", \"etape\", \"mp\"])\n",
    "        self.mesh[\"pv_prod_tra\"] = Pv_prod_tra(self, \"pv_prod_tra\", [self.T, self.substeps, 1], [\"time\", \"etape\", \"mp\"])\n",
    "        self.report[\"central\"] = Report(self, \"central\")\n",
    "        self.data = {}\n",
    "\n",
    "    def on_data_fed(self):\n",
    "        \"\"\"\n",
    "        Resize data and then additionnal operations\n",
    "        \"\"\"\n",
    "        self[\"credit\"].resize((self.T, self.substeps, len(self.data[\"mp\"]) ))\n",
    "\n",
    "    def feed_data_central(self):\n",
    "        \"\"\"\n",
    "        Just assign values to self.data\n",
    "        \"\"\"\n",
    "        self.data[\"mp\"] = pandas.DataFrame({\"id\": list(range(10)), \n",
    "                                          \"csr\": [100] * 10, \n",
    "                                          \"prod_activated\": [True] * 3 + [False] * 7})\n",
    "        self.on_data_fed()\n",
    "\n",
    "    def fetch_report_central(self):\n",
    "        self.report[\"central\"].compute()\n",
    "        self.report[\"central\"].export()\n",
    "    \n",
    "\n",
    "pvif = PVIF()\n",
    "pvif.feed_data_central()\n",
    "\n",
    "print(pvif[\"credit\"][\"flow_test\"][2, 1, 0])\n",
    "pvif[\"credit\"][\"flow_test\"][2, 1, 0] = 10\n",
    "print(pvif[\"credit\"][\"flow_test\"][2, 1, 0])\n",
    "\n",
    "print(pvif[\"credit\"].model[\"credit\"])\n",
    "print(pvif[\"credit\"])"
   ]
  },
  {
   "cell_type": "code",
   "execution_count": 13,
   "metadata": {},
   "outputs": [
    {
     "data": {
      "text/plain": [
       "5.0"
      ]
     },
     "execution_count": 13,
     "metadata": {},
     "output_type": "execute_result"
    }
   ],
   "source": [
    "pvif[\"credit\"][\"flow_test\"].compute((2, 1, 2))"
   ]
  },
  {
   "cell_type": "code",
   "execution_count": 19,
   "metadata": {},
   "outputs": [
    {
     "data": {
      "text/plain": [
       "array([[ 0.,  1.],\n",
       "       [ 2.,  3.],\n",
       "       [ 4.,  5.],\n",
       "       [nan, nan],\n",
       "       [nan, nan],\n",
       "       [nan, nan],\n",
       "       [nan, nan],\n",
       "       [nan, nan],\n",
       "       [nan, nan],\n",
       "       [nan, nan]])"
      ]
     },
     "execution_count": 19,
     "metadata": {},
     "output_type": "execute_result"
    }
   ],
   "source": [
    "pvif[\"credit\"][\"flow_test\"].values[:,:,2]"
   ]
  },
  {
   "cell_type": "code",
   "execution_count": null,
   "metadata": {},
   "outputs": [],
   "source": [
    "pvif[\"credit\"][\"flow_test\"].values[:,:,2]"
   ]
  },
  {
   "cell_type": "code",
   "execution_count": 21,
   "metadata": {},
   "outputs": [],
   "source": [
    "class test:\n",
    "    def __getitem__(self, index):\n",
    "        print(index)"
   ]
  },
  {
   "cell_type": "code",
   "execution_count": 25,
   "metadata": {},
   "outputs": [
    {
     "name": "stdout",
     "output_type": "stream",
     "text": [
      "(slice(5, 8, None), 8)\n"
     ]
    }
   ],
   "source": [
    "a = test()\n",
    "a[5:8, 8]"
   ]
  },
  {
   "cell_type": "code",
   "execution_count": 24,
   "metadata": {},
   "outputs": [
    {
     "data": {
      "text/plain": [
       "slice(5, 8, None)"
      ]
     },
     "execution_count": 24,
     "metadata": {},
     "output_type": "execute_result"
    }
   ],
   "source": [
    "slice(5, 8, None)"
   ]
  },
  {
   "cell_type": "code",
   "execution_count": 26,
   "metadata": {},
   "outputs": [
    {
     "data": {
      "text/plain": [
       "slice(5, 8, None)"
      ]
     },
     "execution_count": 26,
     "metadata": {},
     "output_type": "execute_result"
    }
   ],
   "source": [
    "slice(5, 8, None)"
   ]
  },
  {
   "cell_type": "code",
   "execution_count": null,
   "metadata": {},
   "outputs": [],
   "source": []
  }
 ],
 "metadata": {
  "kernelspec": {
   "display_name": "Python 3",
   "language": "python",
   "name": "python3"
  },
  "language_info": {
   "codemirror_mode": {
    "name": "ipython",
    "version": 3
   },
   "file_extension": ".py",
   "mimetype": "text/x-python",
   "name": "python",
   "nbconvert_exporter": "python",
   "pygments_lexer": "ipython3",
   "version": "3.7.4"
  }
 },
 "nbformat": 4,
 "nbformat_minor": 2
}
