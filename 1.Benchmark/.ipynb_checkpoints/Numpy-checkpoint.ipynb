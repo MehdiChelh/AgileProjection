{
 "cells": [
  {
   "cell_type": "code",
   "execution_count": 1,
   "metadata": {},
   "outputs": [],
   "source": [
    "import numpy as np"
   ]
  },
  {
   "cell_type": "code",
   "execution_count": null,
   "metadata": {},
   "outputs": [],
   "source": [
    "# Matrice de MP\n",
    "# Maille MP :\n",
    "#   - indice temps, indice étape, indice produit, indice mp\n",
    "# Maille Produit :\n",
    "#   - indice temps, indice étape, indice produit\n",
    "# Maille Compagnie :\n",
    "#   - indice temps, indice étape\n",
    "# Maille Top :\n",
    "#   - None / indice temps / indice temps, indice étape\n",
    "\n",
    "\n",
    "class Mesh:\n",
    "    # Etend la classe array\n",
    "    # initialisation à partir de Meshs et de cash flows et d'une liste de variables et d'indices\n",
    "    # A chaque variable de la liste est associé une méthode qui définie la variable (-> cette méthode est récupérée par le builder)\n",
    "    # A chaque sous-Mesh est associé un getter\n",
    "    # Une méthode build renvoie le graph de dépendance de la mesh\n",
    "    # Une méthode exec exécute les calculs sur des inputs du graph de dépendance\n",
    "    #    - la méthode exec doit pouvoir gérer le parallélisme et la gestion de la mémoire (éventuellement écriture sur le disque)\n",
    "    # \n",
    "    \n",
    "    \n",
    "class CashFlow:\n",
    "    # \n",
    "    "
   ]
  }
 ],
 "metadata": {
  "kernelspec": {
   "display_name": "Python 3",
   "language": "python",
   "name": "python3"
  },
  "language_info": {
   "codemirror_mode": {
    "name": "ipython",
    "version": 3
   },
   "file_extension": ".py",
   "mimetype": "text/x-python",
   "name": "python",
   "nbconvert_exporter": "python",
   "pygments_lexer": "ipython3",
   "version": "3.7.0"
  }
 },
 "nbformat": 4,
 "nbformat_minor": 2
}
