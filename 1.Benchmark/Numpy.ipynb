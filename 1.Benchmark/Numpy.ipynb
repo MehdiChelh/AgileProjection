{
 "cells": [
  {
   "cell_type": "code",
   "execution_count": 1,
   "metadata": {
    "colab": {
     "base_uri": "https://localhost:8080/",
     "height": 35
    },
    "colab_type": "code",
    "id": "_r8vt_K5PiVN",
    "outputId": "c255ede2-c2af-41a1-e7d3-59e79885522a"
   },
   "outputs": [
    {
     "name": "stderr",
     "output_type": "stream",
     "text": [
      "Matplotlib is building the font cache using fc-list. This may take a moment.\n"
     ]
    },
    {
     "data": {
      "text/plain": [
       "UUID('6fa459ea-ee8a-3ca4-894e-db77e160355e')"
      ]
     },
     "execution_count": 1,
     "metadata": {},
     "output_type": "execute_result"
    }
   ],
   "source": [
    "import numpy as np\n",
    "import pandas\n",
    "import itertools\n",
    "import inspect\n",
    "import uuid\n",
    "\n",
    "uuid.uuid3(uuid.NAMESPACE_DNS, 'python.org')"
   ]
  },
  {
   "cell_type": "code",
   "execution_count": 0,
   "metadata": {
    "colab": {},
    "colab_type": "code",
    "id": "DDaqc0YZPiVW"
   },
   "outputs": [],
   "source": [
    "# Matrice de MP\n",
    "# Maille MP :\n",
    "#   - indice temps, indice étape, indice produit, indice mp\n",
    "# Maille Produit :\n",
    "#   - indice temps, indice étape, indice produit\n",
    "# Maille Compagnie :\n",
    "#   - indice temps, indice étape\n",
    "# Maille Top :\n",
    "#   - None / indice temps / indice temps, indice étape\n",
    "\n",
    "CUSTOM = 0 # -> pour définir des étapes de calcul (bop, eop, ...)\n",
    "YEARLY = 1\n",
    "QUARTERLY = 3\n",
    "BIANNUALY = 6\n",
    "MONTHLY = 12\n",
    "DAILY = 365\n",
    "\n",
    "def md5_id(name):\n",
    "    return uuid.uuid3(uuid.NAMESPACE_DNS, name).hex\n",
    "\n",
    "class Mesh:\n",
    "    None\n",
    "    # Etend la classe array\n",
    "    # initialisation à partir de Meshs et de cash flows et d'une liste de variables et d'indices\n",
    "    # A chaque variable de la liste est associé une méthode qui définie la variable (-> cette méthode est récupérée par le builder)\n",
    "    # A chaque sous-Mesh est associé un getter\n",
    "    # Une méthode build renvoie le graph de dépendance de la mesh\n",
    "    # Une méthode exec exécute les calculs sur des inputs du graph de dépendance\n",
    "    #    - la méthode exec doit pouvoir gérer le parallélisme et la gestion de la mémoire (éventuellement écriture sur le disque)\n",
    "    # \n",
    "    \n",
    "class Placeholder:\n",
    "    id_ = None\n",
    "    name = None\n",
    "    def __init__(self, name):\n",
    "        self.id_ = md5_id(name)\n",
    "        self.name = name\n",
    "    \n",
    "class Constant(Placeholder):\n",
    "    value = None\n",
    "    def __init__(self, name, value):\n",
    "        super().__init__(name)\n",
    "        self.value = value\n",
    "    def __eq__(self, other):\n",
    "        return self.id_ == other.id_\n",
    "\n",
    "\n",
    "class TimeStep(Placeholder):\n",
    "    \"\"\"Todo: add multiply method \"\"\"\n",
    "    def __init__(self, shift = 0, name = \"main\", ref = Constant(\"TimeStep_ref\", 0), base = YEARLY):\n",
    "        super().__init__(name)\n",
    "        self.shift = shift\n",
    "        self.ref = ref\n",
    "        self.base = YEARLY # YEARLY, MONTHLY, DAILY\n",
    "        self.values = {}\n",
    "        \n",
    "    def __add__(self, value):\n",
    "        if isinstance(value, TimeStep):\n",
    "            raise ArithmeticError(\"Cannot use +, -, * or / operators with TimeSteps objects. Please use set_ref to set a relative TimeStep or monthly(), quarterly(), biannualy(), yearly() to set the base to use.\")\n",
    "        else:\n",
    "            return TimeStep(shift = self.shift + value, name = self.name)\n",
    "        \n",
    "    def __sub__(self, other):\n",
    "        if isinstance(other, TimeStep):\n",
    "            raise ArithmeticError(\"Cannot use +, -, * or / operators with TimeSteps objects. Please use set_ref to set a relative TimeStep or monthly(), quarterly(), biannualy(), yearly() to set the base to use.\")\n",
    "        else:\n",
    "            return TimeStep(shift = self.shift - other, name = self.name)\n",
    "    \n",
    "    def set_ref(self, other):\n",
    "        if isinstance(other, TimeStep):\n",
    "            TimeStep(shift = self.shift - value, name = self.name, ref = other)\n",
    "    \n",
    "    def yearly():\n",
    "        self.base = YEARLY\n",
    "        \n",
    "    def monthly():\n",
    "        self.base = MONTHLY\n",
    "    \n",
    "    def daily():\n",
    "        self.base = DAILY\n",
    "        \n",
    "    def evaluate(self, value):\n",
    "        if self.values.get(value, False):\n",
    "            \n",
    "        if value == self.ref.value:\n",
    "            return self.ref.value\n",
    "        elif value > self.ref.value:\n",
    "            return 1 + self.evaluate(value - 1)\n",
    "        elif value < self.ref.value:\n",
    "            return -1 + self.evaluate(value + 1)\n",
    "        \n",
    "    def formula(self, value):\n",
    "        if value == self.ref.value:\n",
    "            return self.ref.value\n",
    "        elif value > self.ref.value:\n",
    "            return 1 + self.formula(value - 1)\n",
    "        elif value < self.ref.value:\n",
    "            return -1 + self.formula(value + 1)\n",
    "        \n",
    "        if self.shift == 0:\n",
    "            return self.ref.value\n",
    "        else:\n",
    "            return self.__sub__(1)\n",
    "        \n",
    "        \n",
    "    \n",
    "class Hypothesis(Placeholder):\n",
    "    \"\"\"Different categories : numeric, factor, string (in case of id)\"\"\"\n",
    "    category = None\n",
    "    def __init__(self, name):\n",
    "        super().__init__(name)\n",
    "        self.shift = shift\n",
    "\n",
    "    \n",
    "class Flow(Placeholder):\n",
    "    \"\"\"Time dependent placeholder\"\"\"\n",
    "    size = None\n",
    "    # dim = None\n",
    "    # dimnames = None\n",
    "    dependencies = {\"in\":[], \"out\":[]}\n",
    "    built = False\n",
    "    values = []\n",
    "    computed = []\n",
    "    def __init__(self, size = 1, name = \"CF_\" + str(random.randint(1, 100))):\n",
    "        super().__init__(name)\n",
    "        self.size = size\n",
    "    def __add__(self, cf):\n",
    "        #[self.cf_id, self.]\n",
    "        self.dependencies[\"in\"].append(self.cf_id)\n",
    "        cf.dependencies[\"in\"].append(cf.cf_id)\n",
    "    def __getitem__(self, key):\n",
    "        return([self.id_, key])\n",
    "    def __setitem__(self, ):\n",
    "        None"
   ]
  },
  {
   "cell_type": "code",
   "execution_count": 0,
   "metadata": {
    "colab": {},
    "colab_type": "code",
    "id": "A25eKC5vPiVZ",
    "outputId": "5e274366-6836-42ac-9cd0-3c368e4288d2"
   },
   "outputs": [
    {
     "name": "stdout",
     "output_type": "stream",
     "text": [
      "3\n",
      "4\n"
     ]
    },
    {
     "data": {
      "text/plain": [
       "-15"
      ]
     },
     "execution_count": 290,
     "metadata": {
      "tags": []
     },
     "output_type": "execute_result"
    }
   ],
   "source": [
    "t = TimeStep(shift = 3)\n",
    "#t = t - 2\n",
    "#Placeholder(\"itt_rate\")\n",
    "#print(t.shift)\n",
    "#print(t.id_)\n",
    "#(t - t).shift\n",
    "print(t.shift)\n",
    "t = t + 1\n",
    "print(t.shift)\n",
    "t.evaluate(-15)"
   ]
  },
  {
   "cell_type": "code",
   "execution_count": 0,
   "metadata": {
    "colab": {},
    "colab_type": "code",
    "id": "dl-5wXCZPiVb",
    "outputId": "7be14510-eecf-48cb-fee8-4474d8eface1"
   },
   "outputs": [
    {
     "data": {
      "text/plain": [
       "True"
      ]
     },
     "execution_count": 299,
     "metadata": {
      "tags": []
     },
     "output_type": "execute_result"
    }
   ],
   "source": [
    "0 == False"
   ]
  },
  {
   "cell_type": "code",
   "execution_count": 0,
   "metadata": {
    "colab": {},
    "colab_type": "code",
    "id": "3qXXSYKEPiVe",
    "outputId": "a0613089-dfc2-4862-b351-45a810121b01"
   },
   "outputs": [
    {
     "data": {
      "text/plain": [
       "['25e14044f12c30a89af29abb5778eef2', 2]"
      ]
     },
     "execution_count": 173,
     "metadata": {
      "tags": []
     },
     "output_type": "execute_result"
    }
   ],
   "source": [
    "my_cf = CashFlow(10, \"my_cf\")\n",
    "my_cf[2]"
   ]
  },
  {
   "cell_type": "markdown",
   "metadata": {
    "colab_type": "text",
    "id": "E4aciJpbPiVg"
   },
   "source": [
    "\n",
    "\n"
   ]
  },
  {
   "cell_type": "code",
   "execution_count": 0,
   "metadata": {
    "colab": {},
    "colab_type": "code",
    "id": "0L4o91VhPiVh",
    "outputId": "b194df50-8f93-4600-9c5f-93ee37ba8c92"
   },
   "outputs": [
    {
     "ename": "IndexError",
     "evalue": "index 11 is out of bounds for axis 0 with size 9",
     "output_type": "error",
     "traceback": [
      "\u001b[0;31m---------------------------------------------------------------------------\u001b[0m",
      "\u001b[0;31mIndexError\u001b[0m                                Traceback (most recent call last)",
      "\u001b[0;32m<ipython-input-527-40fee6c1a187>\u001b[0m in \u001b[0;36m<module>\u001b[0;34m()\u001b[0m\n\u001b[1;32m      1\u001b[0m \u001b[0ma\u001b[0m \u001b[0;34m=\u001b[0m \u001b[0mnp\u001b[0m\u001b[0;34m.\u001b[0m\u001b[0marange\u001b[0m\u001b[0;34m(\u001b[0m\u001b[0;36m1\u001b[0m\u001b[0;34m,\u001b[0m \u001b[0;36m10\u001b[0m\u001b[0;34m)\u001b[0m\u001b[0;34m\u001b[0m\u001b[0m\n\u001b[0;32m----> 2\u001b[0;31m \u001b[0ma\u001b[0m\u001b[0;34m[\u001b[0m\u001b[0;36m11\u001b[0m\u001b[0;34m]\u001b[0m\u001b[0;34m\u001b[0m\u001b[0m\n\u001b[0m",
      "\u001b[0;31mIndexError\u001b[0m: index 11 is out of bounds for axis 0 with size 9"
     ]
    }
   ],
   "source": [
    "a = np.arange(1, 10)\n",
    "a[11]"
   ]
  },
  {
   "cell_type": "code",
   "execution_count": 0,
   "metadata": {
    "colab": {
     "base_uri": "https://localhost:8080/",
     "height": 377
    },
    "colab_type": "code",
    "id": "qwB2qq_FPiVj",
    "outputId": "ceb323c0-ce7d-457f-d93a-422a163f49be"
   },
   "outputs": [
    {
     "name": "stdout",
     "output_type": "stream",
     "text": [
      "(0, 0)\n",
      "(0, 1)\n",
      "(0, 2)\n",
      "(0, 3)\n",
      "(0, 4)\n",
      "(1, 0)\n",
      "(1, 1)\n",
      "(1, 2)\n",
      "(1, 3)\n",
      "(1, 4)\n",
      "(2, 0)\n",
      "(2, 1)\n",
      "(2, 2)\n",
      "(2, 3)\n",
      "(2, 4)\n",
      "(3, 0)\n",
      "(3, 1)\n",
      "(3, 2)\n",
      "(3, 3)\n",
      "(3, 4)\n"
     ]
    }
   ],
   "source": [
    "import itertools\n",
    "a = (range(i) for i in range(4, 6))\n",
    "for i in itertools.product(*a):\n",
    "  print(i)"
   ]
  },
  {
   "cell_type": "code",
   "execution_count": 0,
   "metadata": {
    "colab": {
     "base_uri": "https://localhost:8080/",
     "height": 35
    },
    "colab_type": "code",
    "id": "YU2hsrLJaHVn",
    "outputId": "910dc4b8-ed33-41bd-850c-b24ac560c526"
   },
   "outputs": [
    {
     "data": {
      "text/plain": [
       "1.0"
      ]
     },
     "execution_count": 95,
     "metadata": {
      "tags": []
     },
     "output_type": "execute_result"
    }
   ],
   "source": [
    "a = np.ones((10, 2))\n",
    "a[1, -2]\n"
   ]
  },
  {
   "cell_type": "code",
   "execution_count": 51,
   "metadata": {
    "colab": {},
    "colab_type": "code",
    "id": "IPbToe8yPiVm"
   },
   "outputs": [],
   "source": [
    "\n",
    "class Flow:\n",
    "    def __init__(self, model, mesh, name, shape):\n",
    "        self.shape = shape # 1 Dimension for now\n",
    "        self.model = model\n",
    "        self.mesh = mesh\n",
    "        self.computed = np.zeros(shape, dtype = bool)\n",
    "        self.values = np.zeros(shape, dtype = float) * np.nan # not very clean\n",
    "        self.compute_mode = False\n",
    "        \n",
    "    def __getitem__(self, *args):\n",
    "        if self.compute_mode & (not self.computed[args[0]]):\n",
    "            self.formula(args[0])\n",
    "        return self.values.__getitem__(args[0])\n",
    "    \n",
    "    def __setitem__(self, *args):\n",
    "        self.values[args[0]] = args[1]\n",
    "        self.computed[args[0]] = True\n",
    "    \n",
    "    def slide_window(self):\n",
    "        pass\n",
    "    \n",
    "    def compute(self, index):\n",
    "        \"\"\"\n",
    "        Args::\n",
    "        - index : index of the value to compute. Compute all values if index == -2.\n",
    "                  Compute the last value if index == -1\n",
    "\n",
    "        if index == -1:\n",
    "        return self[self.shape - 1]\n",
    "        elif index == -2:\n",
    "        ranges = (range(i) for i in self.shape)\n",
    "        for index in itertools.product(*ranges):\n",
    "          self[index]\n",
    "        return self[self.shape - 1]\n",
    "        \"\"\"\n",
    "        self.compute_mode = True\n",
    "        return self[index]\n",
    "  \n",
    "    def formula(self, index):\n",
    "        s = self\n",
    "        m = self.mesh\n",
    "        top = self.model\n",
    "        \n",
    "        # Formula stuff...\n",
    "        self[index] = None # some stuff...\n",
    "    def resize(self, shape):\n",
    "        self.computed = np.zeros(shape, dtype = bool)\n",
    "        self.values = np.zeros(shape, dtype = float) * np.nan\n",
    "\n",
    "class Mesh:\n",
    "    def __init__(self, model, name, shape, shape_names):\n",
    "        self.shape = shape\n",
    "        self.model = model\n",
    "        self.shape_names = shape_names\n",
    "        \n",
    "        self.flow = {}\n",
    "        self.mesh = {}\n",
    "        \n",
    "    def compute(self, index):\n",
    "        pass\n",
    "        \n",
    "    def __getitem__(self, item):\n",
    "        return self.flow[item]\n",
    "    \n",
    "    def resize(self, shape):\n",
    "        for key in self.flow.keys():\n",
    "            self.flow[key].resize(shape)\n",
    "\n",
    "        \n",
    "\n",
    "\n",
    "class Model:\n",
    "    mesh = {}\n",
    "    report = {}\n",
    "    def __init__(self):\n",
    "        pass\n",
    "    def __getitem__(self, item):\n",
    "        return self.mesh[item]\n",
    "        "
   ]
  },
  {
   "cell_type": "code",
   "execution_count": 52,
   "metadata": {},
   "outputs": [
    {
     "data": {
      "text/plain": [
       "dict_keys(['a'])"
      ]
     },
     "execution_count": 52,
     "metadata": {},
     "output_type": "execute_result"
    }
   ],
   "source": [
    "{\"a\":0}.keys()"
   ]
  },
  {
   "cell_type": "code",
   "execution_count": 53,
   "metadata": {
    "colab": {
     "base_uri": "https://localhost:8080/",
     "height": 233
    },
    "colab_type": "code",
    "id": "WR-h8RHPPiVp",
    "outputId": "8a33bae4-cacf-4d28-bbea-16edc4985475"
   },
   "outputs": [
    {
     "name": "stdout",
     "output_type": "stream",
     "text": [
      "False\n",
      "False\n"
     ]
    },
    {
     "data": {
      "text/plain": [
       "array([[nan, nan, nan, nan, nan, nan, nan, nan, nan, nan],\n",
       "       [nan, nan, nan, nan, nan, nan, nan, nan, nan, nan],\n",
       "       [nan, nan, nan, nan, nan, nan, nan, nan, nan, nan],\n",
       "       [nan, nan, nan, nan, nan, nan, nan, nan, nan, nan],\n",
       "       [nan, nan, nan, nan, nan, nan, nan, nan, nan, nan],\n",
       "       [nan, nan, nan, nan, nan, nan, nan, nan, nan, nan],\n",
       "       [nan, nan, nan, nan, nan, nan, nan, nan, nan, nan],\n",
       "       [nan, nan, nan, nan, nan, nan, nan, nan, nan, nan],\n",
       "       [nan, nan, nan, nan, nan, nan, nan, nan, nan, nan],\n",
       "       [nan, nan, nan, nan, nan, nan, nan, nan, nan, nan]])"
      ]
     },
     "execution_count": 53,
     "metadata": {},
     "output_type": "execute_result"
    }
   ],
   "source": [
    "\n",
    "        \n",
    "class FlowTest(Flow):\n",
    "    def __init__(self, model, mesh, name, shape):\n",
    "        super().__init__(model, mesh, name, shape)\n",
    "        self.T1, self.T2 = self.shape[0], self.shape[1]\n",
    "        \n",
    "    def formula(self, index):\n",
    "        t1, t2, mp = index\n",
    "        T1, T2 = self.T1, self.T2\n",
    "        if (t1 == 0) & (t2 == 0):\n",
    "            self[t1, t2, mp] = 0\n",
    "        elif (t2 == 0):\n",
    "            self[t1, t2, mp] = self[t1-1, T2-1, mp] + 1\n",
    "        else:\n",
    "            self[t1, t2, mp] = self[t1, t2-1, mp] + 1\n",
    "    \n",
    "\n",
    "flow = FlowTest(None, None, \"FlowTest\", (10, 10, 3))\n",
    "print(flow.compute_mode)\n",
    "print(flow.compute_mode)\n",
    "flow.compute((5, 3, 1))\n",
    "flow.values[:,: , 2]"
   ]
  },
  {
   "cell_type": "code",
   "execution_count": 54,
   "metadata": {
    "colab": {},
    "colab_type": "code",
    "id": "8IX9iJtmPiVr"
   },
   "outputs": [],
   "source": [
    "class Report:\n",
    "    def __init__(self, model, name):\n",
    "        self.model = model\n",
    "        self.name = name\n",
    "    def export(self):\n",
    "        pass\n",
    "    def compute(self):\n",
    "        pass\n",
    "\n",
    "\n",
    "class Report_central(Report):\n",
    "    def __init__(self, model, name):\n",
    "        super().__init__(self, model, name)\n",
    "    def compute(self):\n",
    "        model[\"prod_tra\"].compute(-1)"
   ]
  },
  {
   "cell_type": "code",
   "execution_count": 55,
   "metadata": {
    "colab": {
     "base_uri": "https://localhost:8080/",
     "height": 161
    },
    "colab_type": "code",
    "id": "s1wHMAFUPiVt",
    "outputId": "68ad0eee-8c2b-47db-f84c-6ba7956ea802"
   },
   "outputs": [
    {
     "name": "stdout",
     "output_type": "stream",
     "text": [
      "[[1. 1. 1. 1.]\n",
      " [1. 1. 1. 1.]\n",
      " [1. 1. 1. 1.]]\n",
      "[[1. 1. 1. 1. 1. 1.]\n",
      " [1. 1. 1. 1. 1. 1.]\n",
      " [0. 0. 0. 0. 0. 0.]\n",
      " [0. 0. 0. 0. 0. 0.]\n",
      " [0. 0. 0. 0. 0. 0.]]\n"
     ]
    }
   ],
   "source": [
    "a = np.ones((3, 4))\n",
    "print(a)\n",
    "a.resize(5, 6)\n",
    "print(a)"
   ]
  },
  {
   "cell_type": "code",
   "execution_count": 56,
   "metadata": {
    "colab": {
     "base_uri": "https://localhost:8080/",
     "height": 394
    },
    "colab_type": "code",
    "id": "dWVUT9I3PiVv",
    "outputId": "65b0db23-da0c-4a70-f87d-102096920d7b"
   },
   "outputs": [
    {
     "name": "stdout",
     "output_type": "stream",
     "text": [
      "nan\n",
      "10.0\n",
      "<__main__.Credit object at 0x126807350>\n",
      "<__main__.Credit object at 0x126807350>\n"
     ]
    }
   ],
   "source": [
    "class Credit(Mesh):\n",
    "    def __init__(self, model, name, shape, shape_names):\n",
    "        super().__init__(model, name, shape, shape_names)\n",
    "        \n",
    "        self.flow[\"flow_test\"] = FlowTest(model, self, \"flow_test\", shape)\n",
    "        #self.mesh[\"submesh1\"] = Mesh(model, \"submesh1\", [10, 2, 1], [\"time\", \"etape\", \"credit\", \"submesh1\"])\n",
    "\n",
    "        \n",
    "class Prod_tra(Mesh):\n",
    "    def __init__(self, *args):\n",
    "        super().__init__(*args)\n",
    "        \n",
    "class Goc_insu(Mesh):\n",
    "    def __init__(self, *args):\n",
    "        super().__init__(*args)\n",
    "        \n",
    "class Goc_reass(Mesh):\n",
    "    def __init__(self, *args):\n",
    "        super().__init__(*args)\n",
    "\n",
    "\n",
    "class Pv_prod_tra(Mesh):\n",
    "    def __init__(self, *args):\n",
    "        super().__init__(*args)\n",
    "        \n",
    "    \n",
    "class PVIF(Model):\n",
    "    T = 10\n",
    "    substeps = 2\n",
    "    def __init__(self):\n",
    "        super().__init__()\n",
    "        self.mesh[\"credit\"] = Credit(self, \"credit\", [self.T, self.substeps, 1], [\"time\", \"etape\", \"mp\"])\n",
    "        self.mesh[\"prod_tra\"] = Prod_tra(self, \"prod_tra\", [self.T, self.substeps, 1], [\"time\", \"etape\", \"mp\"])\n",
    "        self.mesh[\"goc_insu\"] = Goc_insu(self, \"goc_insu\", [self.T, self.substeps, 1], [\"time\", \"etape\", \"mp\"])\n",
    "        self.mesh[\"goc_reass\"] = Goc_reass(self, \"goc_reass\", [self.T, self.substeps, 1], [\"time\", \"etape\", \"mp\"])\n",
    "        self.mesh[\"pv_prod_tra\"] = Pv_prod_tra(self, \"pv_prod_tra\", [self.T, self.substeps, 1], [\"time\", \"etape\", \"mp\"])\n",
    "        self.report[\"central\"] = Report(self, \"central\")\n",
    "        self.data = {}\n",
    "\n",
    "    def on_data_fed(self):\n",
    "        \"\"\"\n",
    "        Resize data and then additionnal operations\n",
    "        \"\"\"\n",
    "        self[\"credit\"].resize((self.T, self.substeps, len(self.data[\"mp\"]) ))\n",
    "\n",
    "    def feed_data_central(self):\n",
    "        \"\"\"\n",
    "        Just assign values to self.data\n",
    "        \"\"\"\n",
    "        self.data[\"mp\"] = pandas.DataFrame({\"id\": list(range(10)), \n",
    "                                          \"csr\": [100] * 10, \n",
    "                                          \"prod_activated\": [True] * 3 + [False] * 7})\n",
    "        self.on_data_fed()\n",
    "\n",
    "    def fetch_report_central(self):\n",
    "        self.report[\"central\"].compute()\n",
    "        self.report[\"central\"].export()\n",
    "    \n",
    "\n",
    "pvif = PVIF()\n",
    "pvif.feed_data_central()\n",
    "\n",
    "print(pvif[\"credit\"][\"flow_test\"][2, 1, 0])\n",
    "pvif[\"credit\"][\"flow_test\"][2, 1, 0] = 10\n",
    "print(pvif[\"credit\"][\"flow_test\"][2, 1, 0])\n",
    "\n",
    "print(pvif[\"credit\"].model[\"credit\"])\n",
    "print(pvif[\"credit\"])"
   ]
  },
  {
   "cell_type": "code",
   "execution_count": 63,
   "metadata": {},
   "outputs": [
    {
     "data": {
      "text/plain": [
       "<__main__.FlowTest at 0x126807ad0>"
      ]
     },
     "execution_count": 63,
     "metadata": {},
     "output_type": "execute_result"
    }
   ],
   "source": [
    "pvif[\"credit\"][\"flow_test\"]"
   ]
  },
  {
   "cell_type": "code",
   "execution_count": 60,
   "metadata": {},
   "outputs": [
    {
     "data": {
      "text/plain": [
       "array([[[nan, nan, nan, nan, nan, nan, nan, nan, nan, nan],\n",
       "        [nan, nan, nan, nan, nan, nan, nan, nan, nan, nan]],\n",
       "\n",
       "       [[nan, nan, nan, nan, nan, nan, nan, nan, nan, nan],\n",
       "        [nan, nan, nan, nan, nan, nan, nan, nan, nan, nan]],\n",
       "\n",
       "       [[nan, nan, nan, nan, nan, nan, nan, nan, nan, nan],\n",
       "        [10., nan, nan, nan, nan, nan, nan, nan, nan, nan]],\n",
       "\n",
       "       [[nan, nan, nan, nan, nan, nan, nan, nan, nan, nan],\n",
       "        [nan, nan, nan, nan, nan, nan, nan, nan, nan, nan]],\n",
       "\n",
       "       [[nan, nan, nan, nan, nan, nan, nan, nan, nan, nan],\n",
       "        [nan, nan, nan, nan, nan, nan, nan, nan, nan, nan]],\n",
       "\n",
       "       [[nan, nan, nan, nan, nan, nan, nan, nan, nan, nan],\n",
       "        [nan, nan, nan, nan, nan, nan, nan, nan, nan, nan]],\n",
       "\n",
       "       [[nan, nan, nan, nan, nan, nan, nan, nan, nan, nan],\n",
       "        [nan, nan, nan, nan, nan, nan, nan, nan, nan, nan]],\n",
       "\n",
       "       [[nan, nan, nan, nan, nan, nan, nan, nan, nan, nan],\n",
       "        [nan, nan, nan, nan, nan, nan, nan, nan, nan, nan]],\n",
       "\n",
       "       [[nan, nan, nan, nan, nan, nan, nan, nan, nan, nan],\n",
       "        [nan, nan, nan, nan, nan, nan, nan, nan, nan, nan]],\n",
       "\n",
       "       [[nan, nan, nan, nan, nan, nan, nan, nan, nan, nan],\n",
       "        [nan, nan, nan, nan, nan, nan, nan, nan, nan, nan]]])"
      ]
     },
     "execution_count": 60,
     "metadata": {},
     "output_type": "execute_result"
    }
   ],
   "source": [
    "pvif.mesh[\"credit\"].flow[\"flow_test\"].values"
   ]
  },
  {
   "cell_type": "code",
   "execution_count": 31,
   "metadata": {
    "colab": {
     "base_uri": "https://localhost:8080/",
     "height": 35
    },
    "colab_type": "code",
    "id": "AJWPEt1yfszf",
    "outputId": "6ecf1e9a-dd0d-489c-ecef-7edcefec19e8"
   },
   "outputs": [
    {
     "data": {
      "text/plain": [
       "[True, True, True, False, False, False, False, False, False, False]"
      ]
     },
     "execution_count": 31,
     "metadata": {},
     "output_type": "execute_result"
    }
   ],
   "source": [
    "[True]*3+[False]*7"
   ]
  },
  {
   "cell_type": "code",
   "execution_count": null,
   "metadata": {
    "colab": {
     "base_uri": "https://localhost:8080/",
     "height": 35
    },
    "colab_type": "code",
    "id": "7wfWwRmLRCao",
    "outputId": "a016bba6-df31-4ac7-d105-df1a028cca50"
   },
   "outputs": [],
   "source": []
  },
  {
   "cell_type": "code",
   "execution_count": 61,
   "metadata": {
    "colab": {
     "base_uri": "https://localhost:8080/",
     "height": 539
    },
    "colab_type": "code",
    "id": "oM1ibkvPPiVx",
    "outputId": "7cb7b7a1-7fa0-450a-a153-692ceaf69565"
   },
   "outputs": [
    {
     "data": {
      "text/plain": [
       "array([[[nan, nan, nan, nan, nan, nan, nan, nan, nan, nan],\n",
       "        [nan, nan, nan, nan, nan, nan, nan, nan, nan, nan]],\n",
       "\n",
       "       [[nan, nan, nan, nan, nan, nan, nan, nan, nan, nan],\n",
       "        [nan, nan, nan, nan, nan, nan, nan, nan, nan, nan]],\n",
       "\n",
       "       [[nan, nan, nan, nan, nan, nan, nan, nan, nan, nan],\n",
       "        [10., nan, nan, nan, nan, nan, nan, nan, nan, nan]],\n",
       "\n",
       "       [[nan, nan, nan, nan, nan, nan, nan, nan, nan, nan],\n",
       "        [nan, nan, nan, nan, nan, nan, nan, nan, nan, nan]],\n",
       "\n",
       "       [[nan, nan, nan, nan, nan, nan, nan, nan, nan, nan],\n",
       "        [nan, nan, nan, nan, nan, nan, nan, nan, nan, nan]],\n",
       "\n",
       "       [[nan, nan, nan, nan, nan, nan, nan, nan, nan, nan],\n",
       "        [nan, nan, nan, nan, nan, nan, nan, nan, nan, nan]],\n",
       "\n",
       "       [[nan, nan, nan, nan, nan, nan, nan, nan, nan, nan],\n",
       "        [nan, nan, nan, nan, nan, nan, nan, nan, nan, nan]],\n",
       "\n",
       "       [[nan, nan, nan, nan, nan, nan, nan, nan, nan, nan],\n",
       "        [nan, nan, nan, nan, nan, nan, nan, nan, nan, nan]],\n",
       "\n",
       "       [[nan, nan, nan, nan, nan, nan, nan, nan, nan, nan],\n",
       "        [nan, nan, nan, nan, nan, nan, nan, nan, nan, nan]],\n",
       "\n",
       "       [[nan, nan, nan, nan, nan, nan, nan, nan, nan, nan],\n",
       "        [nan, nan, nan, nan, nan, nan, nan, nan, nan, nan]]])"
      ]
     },
     "execution_count": 61,
     "metadata": {},
     "output_type": "execute_result"
    }
   ],
   "source": [
    "pvif[\"credit\"][\"flow_test\"].values"
   ]
  },
  {
   "cell_type": "code",
   "execution_count": 0,
   "metadata": {
    "colab": {
     "base_uri": "https://localhost:8080/",
     "height": 322
    },
    "colab_type": "code",
    "id": "NFHEgJL7PiVz",
    "outputId": "bc2b8cfd-2a03-415a-e62a-0b3603eb464b"
   },
   "outputs": [
    {
     "ename": "IndexError",
     "evalue": "ignored",
     "output_type": "error",
     "traceback": [
      "\u001b[0;31m---------------------------------------------------------------------------\u001b[0m",
      "\u001b[0;31mIndexError\u001b[0m                                Traceback (most recent call last)",
      "\u001b[0;32m<ipython-input-134-74e01265094e>\u001b[0m in \u001b[0;36m<module>\u001b[0;34m()\u001b[0m\n\u001b[0;32m----> 1\u001b[0;31m \u001b[0mpvif\u001b[0m\u001b[0;34m[\u001b[0m\u001b[0;34m\"credit\"\u001b[0m\u001b[0;34m]\u001b[0m\u001b[0;34m[\u001b[0m\u001b[0;34m\"flow_test\"\u001b[0m\u001b[0;34m]\u001b[0m\u001b[0;34m.\u001b[0m\u001b[0mcompute\u001b[0m\u001b[0;34m(\u001b[0m\u001b[0;34m(\u001b[0m\u001b[0;36m5\u001b[0m\u001b[0;34m,\u001b[0m \u001b[0;36m1\u001b[0m\u001b[0;34m,\u001b[0m \u001b[0;36m1\u001b[0m\u001b[0;34m)\u001b[0m\u001b[0;34m)\u001b[0m\u001b[0;34m\u001b[0m\u001b[0;34m\u001b[0m\u001b[0m\n\u001b[0m",
      "\u001b[0;32m<ipython-input-96-62e7091bee1c>\u001b[0m in \u001b[0;36mcompute\u001b[0;34m(self, index)\u001b[0m\n\u001b[1;32m     36\u001b[0m       \"\"\"\n\u001b[1;32m     37\u001b[0m       \u001b[0mself\u001b[0m\u001b[0;34m.\u001b[0m\u001b[0mcompute_mode\u001b[0m \u001b[0;34m=\u001b[0m \u001b[0;32mTrue\u001b[0m\u001b[0;34m\u001b[0m\u001b[0;34m\u001b[0m\u001b[0m\n\u001b[0;32m---> 38\u001b[0;31m       \u001b[0;32mreturn\u001b[0m \u001b[0mself\u001b[0m\u001b[0;34m[\u001b[0m\u001b[0mindex\u001b[0m\u001b[0;34m]\u001b[0m\u001b[0;34m\u001b[0m\u001b[0;34m\u001b[0m\u001b[0m\n\u001b[0m\u001b[1;32m     39\u001b[0m \u001b[0;34m\u001b[0m\u001b[0m\n\u001b[1;32m     40\u001b[0m     \u001b[0;32mdef\u001b[0m \u001b[0mformula\u001b[0m\u001b[0;34m(\u001b[0m\u001b[0mself\u001b[0m\u001b[0;34m,\u001b[0m \u001b[0mindex\u001b[0m\u001b[0;34m)\u001b[0m\u001b[0;34m:\u001b[0m\u001b[0;34m\u001b[0m\u001b[0;34m\u001b[0m\u001b[0m\n",
      "\u001b[0;32m<ipython-input-96-62e7091bee1c>\u001b[0m in \u001b[0;36m__getitem__\u001b[0;34m(self, *args)\u001b[0m\n\u001b[1;32m     10\u001b[0m \u001b[0;34m\u001b[0m\u001b[0m\n\u001b[1;32m     11\u001b[0m     \u001b[0;32mdef\u001b[0m \u001b[0m__getitem__\u001b[0m\u001b[0;34m(\u001b[0m\u001b[0mself\u001b[0m\u001b[0;34m,\u001b[0m \u001b[0;34m*\u001b[0m\u001b[0margs\u001b[0m\u001b[0;34m)\u001b[0m\u001b[0;34m:\u001b[0m\u001b[0;34m\u001b[0m\u001b[0;34m\u001b[0m\u001b[0m\n\u001b[0;32m---> 12\u001b[0;31m         \u001b[0;32mif\u001b[0m \u001b[0mself\u001b[0m\u001b[0;34m.\u001b[0m\u001b[0mcompute_mode\u001b[0m \u001b[0;34m&\u001b[0m \u001b[0;34m(\u001b[0m\u001b[0;32mnot\u001b[0m \u001b[0mself\u001b[0m\u001b[0;34m.\u001b[0m\u001b[0mcomputed\u001b[0m\u001b[0;34m[\u001b[0m\u001b[0margs\u001b[0m\u001b[0;34m[\u001b[0m\u001b[0;36m0\u001b[0m\u001b[0;34m]\u001b[0m\u001b[0;34m]\u001b[0m\u001b[0;34m)\u001b[0m\u001b[0;34m:\u001b[0m\u001b[0;34m\u001b[0m\u001b[0;34m\u001b[0m\u001b[0m\n\u001b[0m\u001b[1;32m     13\u001b[0m             \u001b[0mself\u001b[0m\u001b[0;34m.\u001b[0m\u001b[0mformula\u001b[0m\u001b[0;34m(\u001b[0m\u001b[0margs\u001b[0m\u001b[0;34m[\u001b[0m\u001b[0;36m0\u001b[0m\u001b[0;34m]\u001b[0m\u001b[0;34m)\u001b[0m\u001b[0;34m\u001b[0m\u001b[0;34m\u001b[0m\u001b[0m\n\u001b[1;32m     14\u001b[0m         \u001b[0;32mreturn\u001b[0m \u001b[0mself\u001b[0m\u001b[0;34m.\u001b[0m\u001b[0mvalues\u001b[0m\u001b[0;34m.\u001b[0m\u001b[0m__getitem__\u001b[0m\u001b[0;34m(\u001b[0m\u001b[0margs\u001b[0m\u001b[0;34m[\u001b[0m\u001b[0;36m0\u001b[0m\u001b[0;34m]\u001b[0m\u001b[0;34m)\u001b[0m\u001b[0;34m\u001b[0m\u001b[0;34m\u001b[0m\u001b[0m\n",
      "\u001b[0;31mIndexError\u001b[0m: index 1 is out of bounds for axis 2 with size 1"
     ]
    }
   ],
   "source": [
    "pvif[\"credit\"][\"flow_test\"].compute((5, 1, 1))"
   ]
  },
  {
   "cell_type": "code",
   "execution_count": 0,
   "metadata": {
    "colab": {
     "base_uri": "https://localhost:8080/",
     "height": 539
    },
    "colab_type": "code",
    "id": "ZTQb-6ntPiV2",
    "outputId": "879e4fbf-3d33-4a95-b327-926b88201bd6"
   },
   "outputs": [
    {
     "data": {
      "text/plain": [
       "array([[[nan],\n",
       "        [nan]],\n",
       "\n",
       "       [[nan],\n",
       "        [nan]],\n",
       "\n",
       "       [[nan],\n",
       "        [10.]],\n",
       "\n",
       "       [[11.],\n",
       "        [12.]],\n",
       "\n",
       "       [[13.],\n",
       "        [14.]],\n",
       "\n",
       "       [[15.],\n",
       "        [16.]],\n",
       "\n",
       "       [[nan],\n",
       "        [nan]],\n",
       "\n",
       "       [[nan],\n",
       "        [nan]],\n",
       "\n",
       "       [[nan],\n",
       "        [nan]],\n",
       "\n",
       "       [[nan],\n",
       "        [nan]]])"
      ]
     },
     "execution_count": 122,
     "metadata": {
      "tags": []
     },
     "output_type": "execute_result"
    }
   ],
   "source": [
    "pvif[\"credit\"][\"flow_test\"].values"
   ]
  },
  {
   "cell_type": "code",
   "execution_count": 0,
   "metadata": {
    "colab": {
     "base_uri": "https://localhost:8080/",
     "height": 35
    },
    "colab_type": "code",
    "id": "0jayA0YSPiV4",
    "outputId": "a8a8288c-adc7-44e5-8da1-97492d37f2a3"
   },
   "outputs": [
    {
     "data": {
      "text/plain": [
       "14.0"
      ]
     },
     "execution_count": 88,
     "metadata": {
      "tags": []
     },
     "output_type": "execute_result"
    }
   ],
   "source": [
    "pvif[\"credit\"][\"flow_test\"][4, 1]"
   ]
  },
  {
   "cell_type": "code",
   "execution_count": 0,
   "metadata": {
    "colab": {
     "base_uri": "https://localhost:8080/",
     "height": 298
    },
    "colab_type": "code",
    "id": "TSxkZgvkYi7y",
    "outputId": "e445d136-b069-47dd-93d4-b4672675eca1"
   },
   "outputs": [
    {
     "ename": "TypeError",
     "evalue": "ignored",
     "output_type": "error",
     "traceback": [
      "\u001b[0;31m---------------------------------------------------------------------------\u001b[0m",
      "\u001b[0;31mTypeError\u001b[0m                                 Traceback (most recent call last)",
      "\u001b[0;32m<ipython-input-90-65b61c8915b5>\u001b[0m in \u001b[0;36m<module>\u001b[0;34m()\u001b[0m\n\u001b[0;32m----> 1\u001b[0;31m \u001b[0mpvif\u001b[0m\u001b[0;34m[\u001b[0m\u001b[0;34m\"credit\"\u001b[0m\u001b[0;34m]\u001b[0m\u001b[0;34m[\u001b[0m\u001b[0;34m\"flow_test\"\u001b[0m\u001b[0;34m]\u001b[0m\u001b[0;34m.\u001b[0m\u001b[0mcompute\u001b[0m\u001b[0;34m(\u001b[0m\u001b[0;34m-\u001b[0m\u001b[0;36m2\u001b[0m\u001b[0;34m)\u001b[0m\u001b[0;34m\u001b[0m\u001b[0;34m\u001b[0m\u001b[0m\n\u001b[0m",
      "\u001b[0;32m<ipython-input-80-80efd772c3bb>\u001b[0m in \u001b[0;36mcompute\u001b[0;34m(self, index)\u001b[0m\n\u001b[1;32m     34\u001b[0m         \u001b[0;32mfor\u001b[0m \u001b[0mindex\u001b[0m \u001b[0;32min\u001b[0m \u001b[0mitertools\u001b[0m\u001b[0;34m.\u001b[0m\u001b[0mproduct\u001b[0m\u001b[0;34m(\u001b[0m\u001b[0;34m*\u001b[0m\u001b[0mranges\u001b[0m\u001b[0;34m)\u001b[0m\u001b[0;34m:\u001b[0m\u001b[0;34m\u001b[0m\u001b[0;34m\u001b[0m\u001b[0m\n\u001b[1;32m     35\u001b[0m           \u001b[0mself\u001b[0m\u001b[0;34m[\u001b[0m\u001b[0mindex\u001b[0m\u001b[0;34m]\u001b[0m\u001b[0;34m\u001b[0m\u001b[0;34m\u001b[0m\u001b[0m\n\u001b[0;32m---> 36\u001b[0;31m         \u001b[0;32mreturn\u001b[0m \u001b[0mself\u001b[0m\u001b[0;34m[\u001b[0m\u001b[0mself\u001b[0m\u001b[0;34m.\u001b[0m\u001b[0mshape\u001b[0m \u001b[0;34m-\u001b[0m \u001b[0;36m1\u001b[0m\u001b[0;34m]\u001b[0m\u001b[0;34m\u001b[0m\u001b[0;34m\u001b[0m\u001b[0m\n\u001b[0m\u001b[1;32m     37\u001b[0m       \u001b[0;32mreturn\u001b[0m \u001b[0mself\u001b[0m\u001b[0;34m[\u001b[0m\u001b[0mindex\u001b[0m\u001b[0;34m]\u001b[0m\u001b[0;34m\u001b[0m\u001b[0;34m\u001b[0m\u001b[0m\n\u001b[1;32m     38\u001b[0m \u001b[0;34m\u001b[0m\u001b[0m\n",
      "\u001b[0;31mTypeError\u001b[0m: unsupported operand type(s) for -: 'list' and 'int'"
     ]
    }
   ],
   "source": [
    "pvif[\"credit\"][\"flow_test\"].compute(-2)"
   ]
  },
  {
   "cell_type": "code",
   "execution_count": 0,
   "metadata": {
    "colab": {},
    "colab_type": "code",
    "id": "3v0KmKTtPiV6"
   },
   "outputs": [],
   "source": []
  },
  {
   "cell_type": "code",
   "execution_count": 0,
   "metadata": {
    "colab": {},
    "colab_type": "code",
    "id": "_uPAdBcwPiV8"
   },
   "outputs": [],
   "source": []
  },
  {
   "cell_type": "code",
   "execution_count": 0,
   "metadata": {
    "colab": {},
    "colab_type": "code",
    "id": "07XrpyKpPiV_"
   },
   "outputs": [],
   "source": [
    "class Produit(Mesh):\n",
    "    cashflows = {}\n",
    "    def __init__(self):\n",
    "        super().__init()__\n",
    "    def get_cash_flow(self, name):\n",
    "        return self.cashflows[name]\n",
    "    def set_cash_flow(self, name, fun):\n",
    "        self.cashflows[name].set(fun)"
   ]
  }
 ],
 "metadata": {
  "anaconda-cloud": {},
  "colab": {
   "collapsed_sections": [],
   "name": "Numpy.ipynb",
   "provenance": []
  },
  "kernelspec": {
   "display_name": "Python 3",
   "language": "python",
   "name": "python3"
  },
  "language_info": {
   "codemirror_mode": {
    "name": "ipython",
    "version": 3
   },
   "file_extension": ".py",
   "mimetype": "text/x-python",
   "name": "python",
   "nbconvert_exporter": "python",
   "pygments_lexer": "ipython3",
   "version": "3.7.4"
  }
 },
 "nbformat": 4,
 "nbformat_minor": 1
}
